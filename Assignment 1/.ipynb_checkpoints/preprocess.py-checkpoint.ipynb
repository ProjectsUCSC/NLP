{
 "cells": [
  {
   "cell_type": "markdown",
   "metadata": {},
   "source": [
    "##to be converted to a python file later \n",
    "The following file removes\n",
    " 1. HTMLs\n",
    " 2. Trailing HashTags (still to be implemented)\n",
    " 3. Any mentions, special characters\n"
   ]
  },
  {
   "cell_type": "code",
   "execution_count": null,
   "metadata": {
    "collapsed": false
   },
   "outputs": [],
   "source": [
    "import pandas as pd\n",
    "import os\n",
    "import sklearn as skl\n",
    "import nltk\n",
    "import re"
   ]
  },
  {
   "cell_type": "code",
   "execution_count": null,
   "metadata": {
    "collapsed": false
   },
   "outputs": [],
   "source": [
    "def readData(filename):    \n",
    "    cwd = os.getcwd()\n",
    "    path = cwd + \"/\" + filename;\n",
    "    print path\n",
    "    df =pd.read_csv(path);\n",
    "    return df"
   ]
  },
  {
   "cell_type": "markdown",
   "metadata": {},
   "source": [
    "Function to remove htmls, urls , mentions and trailing hashes"
   ]
  },
  {
   "cell_type": "code",
   "execution_count": null,
   "metadata": {
    "collapsed": false
   },
   "outputs": [],
   "source": [
    "def cleanhtml(tweet):\n",
    "  cleanr = re.compile('<.*?>')\n",
    "  cleantext = re.sub(cleanr, '', tweet)\n",
    "  return cleantext\n",
    "def cleanUrl(tweet):\n",
    "    tweet= re.sub(r\"http\\S+\", \"\",  tweet)\n",
    "    return tweet; \n",
    "def removeMention(tweet):\n",
    "    tweet = tweet.replace(\"@\",\"\").rstrip() \n",
    "    return tweet;\n",
    "def removeTrailingHash(tweet):\n",
    "    if len(tweet.split()) ==1:\n",
    "        return tweet;\n",
    "    ends_with_hash=tweet.rsplit(' ', 1)[1].startswith(\"#\")\n",
    "    while(ends_with_hash):\n",
    "        tweet=tweet.rstrip().rsplit(' ', 1)[0] \n",
    "        split_tweet = tweet.rsplit(' ',1)\n",
    "        ends_with_hash=len(split_tweet) >1\n",
    "        if(ends_with_hash):\n",
    "            ends_with_hash = ends_with_hash & split_tweet[1].startswith(\"#\")\n",
    "    return tweet;"
   ]
  },
  {
   "cell_type": "code",
   "execution_count": null,
   "metadata": {
    "collapsed": false
   },
   "outputs": [],
   "source": [
    "def preprocess(filename):\n",
    "    df = readData(filename)\n",
    "    df['text']=df['text'].apply(cleanhtml).apply(cleanUrl).apply(removeMention).apply(removeTrailingHash);\n",
    "    tweetList = df['text']\n",
    "    return df"
   ]
  },
  {
   "cell_type": "code",
   "execution_count": null,
   "metadata": {
    "collapsed": false
   },
   "outputs": [],
   "source": [
    "#to test\n",
    "#filename = \"clinton-50k.csv\"\n",
    "#df = preprocess(filename)"
   ]
  },
  {
   "cell_type": "code",
   "execution_count": null,
   "metadata": {
    "collapsed": false
   },
   "outputs": [],
   "source": []
  },
  {
   "cell_type": "code",
   "execution_count": null,
   "metadata": {
    "collapsed": false
   },
   "outputs": [],
   "source": []
  },
  {
   "cell_type": "code",
   "execution_count": null,
   "metadata": {
    "collapsed": false
   },
   "outputs": [],
   "source": []
  },
  {
   "cell_type": "code",
   "execution_count": null,
   "metadata": {
    "collapsed": false
   },
   "outputs": [],
   "source": []
  },
  {
   "cell_type": "code",
   "execution_count": null,
   "metadata": {
    "collapsed": true
   },
   "outputs": [],
   "source": []
  }
 ],
 "metadata": {
  "anaconda-cloud": {},
  "kernelspec": {
   "display_name": "Python [conda root]",
   "language": "python",
   "name": "conda-root-py"
  },
  "language_info": {
   "codemirror_mode": {
    "name": "ipython",
    "version": 2
   },
   "file_extension": ".py",
   "mimetype": "text/x-python",
   "name": "python",
   "nbconvert_exporter": "python",
   "pygments_lexer": "ipython2",
   "version": "2.7.12"
  }
 },
 "nbformat": 4,
 "nbformat_minor": 1
}
