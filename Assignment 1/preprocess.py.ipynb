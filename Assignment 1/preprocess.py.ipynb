{
 "cells": [
  {
   "cell_type": "markdown",
   "metadata": {},
   "source": [
    "##to be converted to a python file later \n",
    "The following file removes\n",
    " 1. HTMLs\n",
    " 2. Trailing HashTags (still to be implemented)\n",
    " 3. Any mentions, special characters\n"
   ]
  },
  {
   "cell_type": "code",
   "execution_count": 50,
   "metadata": {
    "collapsed": false
   },
   "outputs": [
    {
     "name": "stdout",
     "output_type": "stream",
     "text": [
      "/Users/shubhi/Documents/Winter 2017/nlp/Assignment 1\n"
     ]
    }
   ],
   "source": [
    "import pandas as pd\n",
    "import os\n",
    "import sklearn as skl\n",
    "cwd = os.getcwd()\n",
    "print cwd\n",
    "import nltk"
   ]
  },
  {
   "cell_type": "code",
   "execution_count": 30,
   "metadata": {
    "collapsed": true
   },
   "outputs": [],
   "source": [
    "filename = \"/clinton-50k.csv\""
   ]
  },
  {
   "cell_type": "code",
   "execution_count": 31,
   "metadata": {
    "collapsed": false
   },
   "outputs": [
    {
     "name": "stdout",
     "output_type": "stream",
     "text": [
      "/Users/shubhi/Documents/Winter 2017/nlp/Assignment 1/clinton-50k.csv\n"
     ]
    }
   ],
   "source": [
    "path = cwd + filename;\n",
    "print path\n",
    "df =pd.read_csv(path);"
   ]
  },
  {
   "cell_type": "code",
   "execution_count": null,
   "metadata": {
    "collapsed": false
   },
   "outputs": [],
   "source": []
  },
  {
   "cell_type": "markdown",
   "metadata": {},
   "source": [
    "Function to remove htmls"
   ]
  },
  {
   "cell_type": "code",
   "execution_count": 45,
   "metadata": {
    "collapsed": true
   },
   "outputs": [],
   "source": [
    "import re\n",
    "\n",
    "def cleanhtml(tweet):\n",
    "  cleanr = re.compile('<.*?>')\n",
    "  cleantext = re.sub(cleanr, '', tweet)\n",
    "  return cleantext\n",
    "def cleanUrl(tweet):\n",
    "    tweet= re.sub(r\"(?:\\https?\\://)\\S+\", \"\", tweet)\n",
    "    return tweet; \n",
    "def removeMention(tweet):\n",
    "    tweet = tweet.replace(\"@\",\"\");\n",
    "    return tweet;"
   ]
  },
  {
   "cell_type": "code",
   "execution_count": 51,
   "metadata": {
    "collapsed": false
   },
   "outputs": [],
   "source": [
    "df['text']=df['text'].apply(cleanhtml).apply(cleanMentionUrl).apply(removeMention);\n",
    "tweetList = df['text']"
   ]
  },
  {
   "cell_type": "code",
   "execution_count": 54,
   "metadata": {
    "collapsed": false
   },
   "outputs": [
    {
     "name": "stdout",
     "output_type": "stream",
     "text": [
      "0        #AA #AfricanAmerican Paper bag illustrations e...\n",
      "1        DonRL1 Sister of #Benghazi Victim Recalls How ...\n",
      "2        RT upperbucksgirl: Election coming up. Gotta k...\n",
      "3        [ #Luiis_3x ] This Might Be The Dumbest Line O...\n",
      "4        RT LindaSuhler: #FollowTheMoney: THE FBI IMMUN...\n",
      "5        KathyBenson2 Sister of #Benghazi Victim Recall...\n",
      "6        RT StanLeeGee: Former Bush official: Clinton w...\n",
      "7        Here Is the Only Known Photo of Hillary Clinto...\n",
      "8        #gunsense #gunsense #gunsense #gunsense GOSH I...\n",
      "9        Debate watch party Saturday in Charlotte, NC! ...\n",
      "10       RT _erock: #BasketofDeplorables who hate those...\n",
      "11       HillaryClinton EvaLongoria #OhHillNo! If this ...\n",
      "12       RT LindaSuhler: FOLLOW THE MONEY: TEN INCONVEN...\n",
      "13       HillaryClinton America deserves better than yo...\n",
      "14       notmuchelse you should be glad you don't live ...\n",
      "15       Not to mention greed that Trumps country AND p...\n",
      "16       RT LibtardLimbaugh: MUST WATCH &amp; RT  #ImWi...\n",
      "17       ! Woman in the Oval Office! The First First Ge...\n",
      "18       #DonateOne to HFA #Sheswithus Chris Kowal: I f...\n",
      "19       RT RadioFreeCon: See you #normies on November ...\n",
      "20       Thank you RepMarkTakano for mtg w/ #AAPI leade...\n",
      "21       RT xaipe3: Why is Hillary Clinton on Monsanto'...\n",
      "22       #Hillaryhealth, #MAGA  Obama tried to set up s...\n",
      "23       TWISTEDRICHARD1 Sister of #Benghazi Victim Rec...\n",
      "24       HillaryClinton if we're gonna reach back for t...\n",
      "25       #Vote4Hillary Taught at AR Law School using al...\n",
      "26       RT Carrasquillo: Who says only Obama can have ...\n",
      "27       RT reghansmithh: Always remember hillarys peop...\n",
      "28       Rudy just keeps getting crazier and crazier......\n",
      "29       gerfingerpoken #HillaryClinton #HillYes #Hilla...\n",
      "                               ...                        \n",
      "49970    Oprah Just Told T.I. To Hush His Mouth #OprahW...\n",
      "49971    RT MikeVee5: #OhHillNo  #NOREFUGEESINAMERICA  ...\n",
      "49972    RT SF4Hillary: Get out there and make calls fo...\n",
      "49973    jamesbranch3 Sister of #Benghazi Victim Recall...\n",
      "49974    rekishihistory8 if I want an ignoramus for pre...\n",
      "49975    At Benghazi Hearing, Shouting Match Over Hilla...\n",
      "49976    RT Gypsydragup: Say it again. She picked wrong...\n",
      "49977    HillaryClinton Why don't you pay YOURS?? Need ...\n",
      "49978    RT InesdLC: Rubio says Hillary Clinton 'lied a...\n",
      "49979    BREAKING: #WikiLeaks Reveals Person Hillary Wa...\n",
      "49980    One is not granted immunity when one has done ...\n",
      "49981    RT UncleSam93: Great debate watch party for th...\n",
      "49982    #DropOutHillary this week We have ballots to g...\n",
      "49983                  Clinton/McDonald's  via YahooScreen\n",
      "49984    GovMikeHuckabee HillaryClinton a Clinton tell ...\n",
      "49985    barrgen magnifier661 KDScioscia KellyannePolls...\n",
      "49986                                 Big Booty Yoga Gifs \n",
      "49987    RT gramsci1937: Needed Now: a Peace Movement A...\n",
      "49988    Poll: Trump ahead of Carson; Clinton still fro...\n",
      "49989    jwpetersNYT I reference your piece here, on #H...\n",
      "49990    newspip step_14 okay,  he has way too much mon...\n",
      "49991    #Putin's BITCH: #Trump #TrumpTape #TrumpTaxEva...\n",
      "49992    DJT MED UPDATE: BP: 110/65 BS: 'Astonishingly ...\n",
      "49993    RT ellaackerman: hillary clinton looks like th...\n",
      "49994    RT janingve: #whereshillary At fundraisers. On...\n",
      "49995    Hillary Clinton's million (billion?) little li...\n",
      "49996    ChfraserCindy VT is the heroin state of the na...\n",
      "49997    RT ActionTime: tokigepard Trump's Debt at $1.1...\n",
      "49998    RT realkingrobbo: Washington Post Says Hillary...\n",
      "49999    RT fawn_mac: USHwy2 NW MT ~ #basketofadorables...\n",
      "Name: text, dtype: object\n"
     ]
    },
    {
     "data": {
      "text/plain": [
       "50000"
      ]
     },
     "execution_count": 54,
     "metadata": {},
     "output_type": "execute_result"
    }
   ],
   "source": [
    "print tweetList\n",
    "len(tweetList)"
   ]
  },
  {
   "cell_type": "code",
   "execution_count": 57,
   "metadata": {
    "collapsed": false
   },
   "outputs": [
    {
     "name": "stdout",
     "output_type": "stream",
     "text": [
      "<FreqDist with 47723 samples and 50000 outcomes>\n"
     ]
    }
   ],
   "source": [
    "fdist = nltk.FreqDist(tweetList)\n",
    "print fdist"
   ]
  },
  {
   "cell_type": "code",
   "execution_count": null,
   "metadata": {
    "collapsed": true
   },
   "outputs": [],
   "source": []
  }
 ],
 "metadata": {
  "anaconda-cloud": {},
  "kernelspec": {
   "display_name": "Python [conda root]",
   "language": "python",
   "name": "conda-root-py"
  },
  "language_info": {
   "codemirror_mode": {
    "name": "ipython",
    "version": 2
   },
   "file_extension": ".py",
   "mimetype": "text/x-python",
   "name": "python",
   "nbconvert_exporter": "python",
   "pygments_lexer": "ipython2",
   "version": "2.7.12"
  }
 },
 "nbformat": 4,
 "nbformat_minor": 1
}
