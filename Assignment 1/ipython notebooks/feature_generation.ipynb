{
 "cells": [
  {
   "cell_type": "markdown",
   "metadata": {},
   "source": [
    "Feature extraction is basically the process of analyzing the preprocessed data in terms of variables that are indicative or discriminative of the clusters. The second step is to write a Python program feature_generation.py that takes clean tweets from Task 1 and creates features that will be used to cluster tweets in Task 3.\n",
    " \n",
    "The Feature Sets: The feature representations you should implement are defined as follows.\n",
    "-\tFeature set 1: unigrams features (baseline).\n",
    "-\tFeature set 2: unigrams using TFIDF features.\n",
    "-\tFeature set 3: Perform text normalization:\n",
    "\t-\tWord stemming\n",
    "\t-\tLowercase\n",
    "\t-\tStop word removal\n",
    "\t-\tStrip any proper nouns (NNP) or plural proper nouns (NNPS) from the text\n",
    "\t\t-\tyou will first need to run part-of-speech tagging on the tweet text. Since we are working with tweets, using POS tagger for twitter from CMU.\n",
    "-\tThen, create unigrams using TFIDF features using these processed tweet texts.\n",
    "\n",
    "\n",
    "\n",
    "\n",
    "\n"
   ]
  },
  {
   "cell_type": "code",
   "execution_count": 1,
   "metadata": {
    "collapsed": false
   },
   "outputs": [],
   "source": [
    "import nltk\n",
    "import sklearn as s"
   ]
  },
  {
   "cell_type": "code",
   "execution_count": 2,
   "metadata": {
    "collapsed": true
   },
   "outputs": [],
   "source": [
    "def loadPickle(all_features):\n",
    "    filehandler = open(\"features.obj\",\"wb\")\n",
    "    pickle.dump(all_features,filehandler)\n",
    "    filehandler.close()"
   ]
  },
  {
   "cell_type": "markdown",
   "metadata": {},
   "source": [
    "def unigram(tweetList):\n",
    "    tokenList = []\n",
    "    for text in tweetList: \n",
    "        tokens = nltk.word_tokenize(text)\n",
    "        tokens = [token.lower() for token in tokens if len(token) > 1]\n",
    "        tokenList.append(tokens)\n",
    "    print tokenList\n",
    "    return tokenList"
   ]
  },
  {
   "cell_type": "code",
   "execution_count": 3,
   "metadata": {
    "collapsed": true
   },
   "outputs": [],
   "source": [
    "from sklearn.feature_extraction.text import CountVectorizer"
   ]
  },
  {
   "cell_type": "code",
   "execution_count": null,
   "metadata": {
    "collapsed": true
   },
   "outputs": [],
   "source": []
  },
  {
   "cell_type": "code",
   "execution_count": 4,
   "metadata": {
    "collapsed": false
   },
   "outputs": [
    {
     "name": "stdout",
     "output_type": "stream",
     "text": [
      "The best future for your children and grandchildren would be a vote forTrump unless you see trillion of dollars more in debate great?\n"
     ]
    }
   ],
   "source": [
    "import preprocess as pp\n",
    "filename  = \"../trump-50k.csv\"\n",
    "df = pp.preprocess(filename)\n",
    "tweetList = df['text']\n",
    "print tweetList[4]"
   ]
  },
  {
   "cell_type": "code",
   "execution_count": 5,
   "metadata": {
    "collapsed": false
   },
   "outputs": [
    {
     "ename": "NameError",
     "evalue": "name 'unigram' is not defined",
     "output_type": "error",
     "traceback": [
      "\u001b[0;31m---------------------------------------------------------------------------\u001b[0m",
      "\u001b[0;31mNameError\u001b[0m                                 Traceback (most recent call last)",
      "\u001b[0;32m<ipython-input-5-1a0ac07908af>\u001b[0m in \u001b[0;36m<module>\u001b[0;34m()\u001b[0m\n\u001b[0;32m----> 1\u001b[0;31m \u001b[0mfs1\u001b[0m \u001b[0;34m=\u001b[0m \u001b[0munigram\u001b[0m\u001b[0;34m(\u001b[0m\u001b[0mtweetList\u001b[0m\u001b[0;34m)\u001b[0m\u001b[0;34m\u001b[0m\u001b[0m\n\u001b[0m",
      "\u001b[0;31mNameError\u001b[0m: name 'unigram' is not defined"
     ]
    }
   ],
   "source": [
    "fs1 = unigram(tweetList)"
   ]
  },
  {
   "cell_type": "code",
   "execution_count": null,
   "metadata": {
    "collapsed": true
   },
   "outputs": [],
   "source": []
  }
 ],
 "metadata": {
  "anaconda-cloud": {},
  "kernelspec": {
   "display_name": "Python [conda root]",
   "language": "python",
   "name": "conda-root-py"
  },
  "language_info": {
   "codemirror_mode": {
    "name": "ipython",
    "version": 2
   },
   "file_extension": ".py",
   "mimetype": "text/x-python",
   "name": "python",
   "nbconvert_exporter": "python",
   "pygments_lexer": "ipython2",
   "version": "2.7.12"
  }
 },
 "nbformat": 4,
 "nbformat_minor": 1
}
