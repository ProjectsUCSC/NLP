{
 "cells": [
  {
   "cell_type": "code",
   "execution_count": 1,
   "metadata": {
    "collapsed": true
   },
   "outputs": [],
   "source": [
    "import pandas as pd\n",
    "import os\n",
    "import nltk\n",
    "from nltk import word_tokenize\n",
    "from nltk.corpus import stopwords\n",
    "import re\n",
    "import enchant"
   ]
  },
  {
   "cell_type": "code",
   "execution_count": 2,
   "metadata": {
    "collapsed": true
   },
   "outputs": [],
   "source": [
    "def readData(filename):    \n",
    "    cwd = os.getcwd()\n",
    "    path = cwd + \"/\" + filename;\n",
    "    #print path\n",
    "    df =pd.read_csv(path);\n",
    "    return df"
   ]
  },
  {
   "cell_type": "code",
   "execution_count": 3,
   "metadata": {
    "collapsed": false
   },
   "outputs": [],
   "source": [
    "#df"
   ]
  },
  {
   "cell_type": "code",
   "execution_count": 4,
   "metadata": {
    "collapsed": false
   },
   "outputs": [],
   "source": [
    " def tokenize_and_stopwords(data_sample):\n",
    "    #data_sample = list(data_sample)\n",
    "    #Get all english stopwords\n",
    "    stop = stopwords.words('english')# + list(string.punctuation) + ['0', '1', '2', '3', '4', '5', '6', '7', '8', '9']\n",
    "    #Use only characters from reviews\n",
    "    data_sample = data_sample.str.replace(\"[^a-zA-Z ]\", \" \")#, \" \")\n",
    "    #print data_sample\n",
    "    #tokenize and remove stop words\n",
    "    return [[spellCheck(i) for i in word_tokenize(sentence) if i not in stop] for sentence in data_sample]"
   ]
  },
  {
   "cell_type": "code",
   "execution_count": 5,
   "metadata": {
    "collapsed": true
   },
   "outputs": [],
   "source": [
    "def cleanhtml(tweet):\n",
    "  cleanr = re.compile('<.*?>')\n",
    "  cleantext = re.sub(cleanr, '', tweet)\n",
    "  return cleantext\n",
    "def cleanUrl(tweet):\n",
    "    tweet= re.sub(r\"http\\S+\", \"\",  tweet)\n",
    "    return tweet; \n",
    "def removeMention(tweet):\n",
    "    tweet = tweet.replace(\"rt@\",\"\").rstrip() \n",
    "    tweet = tweet.replace(\"@\",\"\").rstrip() \n",
    "    return tweet;"
   ]
  },
  {
   "cell_type": "code",
   "execution_count": 6,
   "metadata": {
    "collapsed": false
   },
   "outputs": [],
   "source": [
    "def spellCheck(word):\n",
    "    d = enchant.Dict()\n",
    "   \n",
    "    if d.check(word) == False:\n",
    "        word =  d.suggest(word)[0] if d.suggest(word) else \"\" \n",
    "    #print word\n",
    "    return word\n",
    "        "
   ]
  },
  {
   "cell_type": "code",
   "execution_count": null,
   "metadata": {
    "collapsed": false
   },
   "outputs": [],
   "source": [
    "filename = \"Homework2_data.csv\"\n",
    "df =readData(filename)\n",
    "df['text']=df['Tweet_text'].apply(cleanhtml).apply(cleanUrl).apply(removeMention);\n",
    "#df['text'] = df['text'].apply(spellCheck)\n",
    "df['text'] = tokenize_and_stopwords(df['text'])"
   ]
  },
  {
   "cell_type": "code",
   "execution_count": null,
   "metadata": {
    "collapsed": false
   },
   "outputs": [],
   "source": [
    "df"
   ]
  },
  {
   "cell_type": "code",
   "execution_count": null,
   "metadata": {
    "collapsed": true
   },
   "outputs": [],
   "source": []
  }
 ],
 "metadata": {
  "anaconda-cloud": {},
  "kernelspec": {
   "display_name": "Python [conda root]",
   "language": "python",
   "name": "conda-root-py"
  },
  "language_info": {
   "codemirror_mode": {
    "name": "ipython",
    "version": 2
   },
   "file_extension": ".py",
   "mimetype": "text/x-python",
   "name": "python",
   "nbconvert_exporter": "python",
   "pygments_lexer": "ipython2",
   "version": "2.7.12"
  }
 },
 "nbformat": 4,
 "nbformat_minor": 1
}
