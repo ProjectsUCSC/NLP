{
 "cells": [
  {
   "cell_type": "code",
   "execution_count": null,
   "metadata": {
    "collapsed": false
   },
   "outputs": [],
   "source": [
    "import preprocess as pp\n",
    "import sys\n",
    "import os\n",
    "import subprocess"
   ]
  },
  {
   "cell_type": "code",
   "execution_count": 6,
   "metadata": {
    "collapsed": false
   },
   "outputs": [],
   "source": [
    "def create_input_file(df, data_dir, fname):\n",
    "    cwd = os.getcwd()\n",
    "    path = cwd + data_dir + fname\n",
    "    print path;\n",
    "    f = open(path, \"w\")\n",
    "    for item in df[\"text\"]:\n",
    "        print>>f, item\n",
    "    f.close()\n",
    "    return path"
   ]
  },
  {
   "cell_type": "code",
   "execution_count": 7,
   "metadata": {
    "collapsed": false
   },
   "outputs": [],
   "source": [
    "def obtm(sub_dir):\n",
    "    cwd = os.getcwd()\n",
    "    try:\n",
    "        scr =  './runExample.sh'\n",
    "        os.chdir(cwd + sub_dir)\n",
    "        subprocess.call([scr])\n",
    "        os.chdir(cwd)\n",
    "    except:\n",
    "        os.chdir(cwd)"
   ]
  },
  {
   "cell_type": "code",
   "execution_count": 8,
   "metadata": {
    "collapsed": false
   },
   "outputs": [],
   "source": [
    "def run_btm(btm_dir, csv_name):\n",
    "    \n",
    "    df = pp.preprocess(csv_name)\n",
    "    input_fname =\"0.txt\"\n",
    "    data_dir= \"/\" + btm_dir + \"/sample-data/\" \n",
    "    path = create_input_file(df, data_dir, input_fname)\n",
    "    sub_dir=\"/\" +btm_dir + \"/script\"\n",
    "    #obtm(sub_dir)"
   ]
  },
  {
   "cell_type": "code",
   "execution_count": 9,
   "metadata": {
    "collapsed": false
   },
   "outputs": [
    {
     "name": "stdout",
     "output_type": "stream",
     "text": [
      "/Users/shubhi/Documents/Winter 2017/nlp/NLP/Assignment 2/OnlineBTM/sample-data/0.txt\n"
     ]
    }
   ],
   "source": [
    "csv_name = \"Homework2_data.csv\"\n",
    "btm_dir = \"OnlineBTM\"\n",
    "#create_input_file(df)\n",
    "run_btm(btm_dir, csv_name)"
   ]
  },
  {
   "cell_type": "code",
   "execution_count": 10,
   "metadata": {
    "collapsed": true
   },
   "outputs": [],
   "source": [
    "sub_dir=\"/\" +btm_dir + \"/script\"\n",
    "obtm(sub_dir)"
   ]
  },
  {
   "cell_type": "code",
   "execution_count": null,
   "metadata": {
    "collapsed": true
   },
   "outputs": [],
   "source": []
  }
 ],
 "metadata": {
  "anaconda-cloud": {},
  "kernelspec": {
   "display_name": "Python [conda root]",
   "language": "python",
   "name": "conda-root-py"
  },
  "language_info": {
   "codemirror_mode": {
    "name": "ipython",
    "version": 2
   },
   "file_extension": ".py",
   "mimetype": "text/x-python",
   "name": "python",
   "nbconvert_exporter": "python",
   "pygments_lexer": "ipython2",
   "version": "2.7.12"
  }
 },
 "nbformat": 4,
 "nbformat_minor": 1
}
